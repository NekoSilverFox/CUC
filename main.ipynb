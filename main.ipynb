{
 "cells": [
  {
   "cell_type": "code",
   "execution_count": 35,
   "metadata": {},
   "outputs": [],
   "source": [
    "import numpy as np\n",
    "import pandas as pd\n",
    "from sklearn.utils import shuffle\n",
    "from matplotlib import pyplot as plt\n",
    "\n",
    "from sklearn.preprocessing import StandardScaler\n",
    "from sklearn.preprocessing import MinMaxScaler\n",
    "from sklearn.model_selection import train_test_split\n"
   ]
  },
  {
   "cell_type": "code",
   "execution_count": 176,
   "metadata": {},
   "outputs": [
    {
     "data": {
      "image/png": "[encoded data removed]",
      "text/plain": [
       "<Figure size 500x500 with 1 Axes>"
      ]
     },
     "metadata": {
      "needs_background": "light"
     },
     "output_type": "display_data"
    }
   ],
   "source": [
    "# 获取数据集（具有正态分布的）\n",
    "x_1_1 = pd.Series(np.random.normal(loc=22, scale=4, size=50), name='x1')\n",
    "x_1_2 = pd.Series(np.random.normal(loc=24, scale=4, size=50), name='x2')\n",
    "y_1 = pd.Series(['blue'] * 50, name='target')\n",
    "\n",
    "x_2_1 = pd.Series(np.random.normal(loc=8, scale=3, size=50), name='x1')\n",
    "x_2_2 = pd.Series(np.random.normal(loc=12, scale=3, size=50), name='x2')\n",
    "y_2 = pd.Series(['red'] * 50, name='target')\n",
    "\n",
    "plt.figure(figsize=(5, 5), dpi=100)\n",
    "plt.scatter(x_1_1, x_1_2, c='blue')\n",
    "plt.scatter(x_2_1, x_2_2, c='red')\n",
    "plt.show()\n",
    "\n",
    "tmp_data_1 = pd.concat([x_1_1, x_1_2, y_1], axis=1)\n",
    "tmp_data_2 = pd.concat([x_2_1, x_2_2, y_2], axis=1)\n",
    "data = pd.concat([tmp_data_1, tmp_data_2], axis=0)\n",
    "data = shuffle(data).reset_index(drop=True)  # 打乱样本顺序\n",
    "\n",
    "# 划分数据集\n",
    "x_train, x_test, y_train, y_test = train_test_split(data.iloc[:, :-1], data.iloc[:, -1])\n",
    "\n",
    "# 归一化\n",
    "transfer = MinMaxScaler(feature_range=(0, 10))\n",
    "x_train = transfer.fit_transform(X=x_train)\n",
    "x_test = transfer.transform(X=x_test)\n"
   ]
  },
  {
   "attachments": {},
   "cell_type": "markdown",
   "metadata": {},
   "source": [
    "# CUC 的主类"
   ]
  },
  {
   "cell_type": "code",
   "execution_count": 301,
   "metadata": {},
   "outputs": [],
   "source": [
    "class CodingUnitClassifier(object):\n",
    "    '编码单元分类器预估器（estimator）'\n",
    "    def __init__(self, num_continuing_splits=0, threshold_value=1.0, is_draw_2D=False, **kw) -> None:\n",
    "        \"\"\"初始化\n",
    "\n",
    "        Args:\n",
    "            num_continuing_splits (int, optional): 细化分割次数. Defaults to 0.\n",
    "            threshold_value (int, optional): 临界值. Defaults to  1.0.\n",
    "            is_draw_2D (bool, optional): 当绘制 2D 数据集，是否绘制中途图像. Defaults to False.\n",
    "        \"\"\"\n",
    "        self.is_draw_2D = is_draw_2D\n",
    "        self.num_continuing_splits = num_continuing_splits\n",
    "        self.threshold_value = threshold_value  # 临界值：当某个 CU 中某种粒子占比超过这个阈值，则暂停分割\n",
    "        \n",
    "        self.N_train = None  # 训练集的维度\n",
    "        self.X_train = None  # 特征值（训练集）\n",
    "        self.y_train = None  # 目标值（训练集）\n",
    "        self.df_train = None  # 以 pandas.DataFream 形式的训练接数据（特征值和训练集是合并在一起的）。目标值的索引为 `target`，特征值的索引为 `x`，x 为从 0 开始的数字\n",
    "        \n",
    "        self.CU_min = None  # 编码单元范围最小值\n",
    "        self.CU_max = None  # 编码单元范围最小值\n",
    "        \n",
    "        self.arr_CU_start_points = None  # 编码单元起始点列表\n",
    "        self.arr_CU_dL = None # arr_CU_start_points 对应位置的编码单元的边长 `dL`\n",
    "        self.arr_CU_is_enable = None  # arr_CU_start_points 对应位置的编码单元是否启用，True 代表启用，False 代表不启用\n",
    "        self.arr_CU_splits_count = None  # arr_CU_start_points 对应位置的编码单元是通过几次分割所得到的\n",
    "        self.arr_CU_is_final = None  # arr_CU_start_points 对应位置的编码单元是否为最终的\n",
    "        self.arr_CU_force_infection = None  # arr_CU_start_points 对应位置的编码单元的感染力度 (force of infection)\n",
    "\n",
    "        \n",
    "    def is_CU_need_split(self, CU_start_points: np.ndarray, dL: np.float):\n",
    "        \"\"\"判断当前 CU 是否需要继续预分割（如果需要返回 True，如果不需要返回当前 CU 所属的目标值）\n",
    "\n",
    "        Args:\n",
    "            CU_start_points (np.ndarray): 当前 CU 的起始点\n",
    "            dL (np.float): 当前 CU 的边长\n",
    "\n",
    "        Raises:\n",
    "            ValueError: _description_\n",
    "            ValueError: _description_\n",
    "\n",
    "        Returns:\n",
    "            _type_: True为需要进一步分割，如果不需要返回当前 CU 所属的目标值\n",
    "        \"\"\"\n",
    "        if dL <= 0:\n",
    "            raise ValueError(f'[CUC-ERROR] dl can not <= 0, your dL is {dL}')\n",
    "        if CU_start_points.shape[0] != 1 or CU_start_points.shape[1] != self.N_train:\n",
    "            raise ValueError(f'[CUC-ERROR] CU_start_points.shape not correct: CU_start_points.shape is {CU_start_points.shape}, should be (1, {self.N_train})')\n",
    "        \n",
    "        CU_end_points = np.array(CU_start_points + dL)  # 结束点\n",
    "        s_type_count = pd.Series(index=np.unique(self.y_train)).fillna(value=0)  # 计数器，列索引为类别，对应位置数据为该 CU 中此种类粒子数量\n",
    "        \n",
    "        # 遍历判断点是否在这个 CU  中\n",
    "        for col, col_target in zip(self.X_train, self.y_train):  # col_target 为当前行的目标值\n",
    "            # 判断粒子在此维度上是否介于 CU 的起始点和结束点\n",
    "            if (col > CU_start_points).all() & (col < CU_end_points).all():\n",
    "                s_type_count[col_target] += 1\n",
    "                \n",
    "        s_type_count = s_type_count / s_type_count.sum()  # 转换为概率\n",
    "        if (s_type_count.max() >= self.threshold_value) & (1 == s_type_count[s_type_count.values == s_type_count.max()].shape[0]):  # 不允许出现两种相同概率\n",
    "            return s_type_count[s_type_count.values == s_type_count.max()].index[0]\n",
    "        else:\n",
    "            return True\n",
    "        \n",
    "        \n",
    "    def split_CU_and_update2arrCU(self, CU_start_points_index: int) -> None:\n",
    "        \"\"\"分割当前 CU，并将分割的结果更新到方法内部成员\n",
    "\n",
    "        Args:\n",
    "            CU_start_points_index (int): 需要分割 CU 的索引\n",
    "        \"\"\"\n",
    "        if self.arr_CU_is_enable[CU_start_points_index] is False:\n",
    "            raise ValueError(f'[CUC-ERROR] CU on index {CU_start_points_index} already disable, can not continue split')\n",
    "        \n",
    "            \n",
    "        self.arr_CU_is_enable[CU_start_points_index] = False  # 既然对这个单元分割就说明这个单元不再使用了，因为它被差分成了许多新的小单元\n",
    "        \n",
    "        start_points = self.arr_CU_start_points[CU_start_points_index, :]\n",
    "        new_dL = self.arr_CU_dL[CU_start_points_index] / 2\n",
    "        end_points = np.array(start_points + new_dL)\n",
    "        \n",
    "        # 生成包含所有可能性组合的列表\n",
    "        combinations = []\n",
    "        for i in range(2**self.N_train):\n",
    "            new_combination = []\n",
    "            for j in range(self.N_train):\n",
    "                if i & (1<<j):\n",
    "                    new_combination.append(end_points[j])\n",
    "                else:\n",
    "                    new_combination.append(start_points[j])\n",
    "            combinations.append(new_combination)\n",
    "            \n",
    "        # 分割后的 CU 添加至缓冲区\n",
    "        self.arr_CU_start_points = np.vstack([self.arr_CU_start_points, np.array(combinations)])\n",
    "        self.arr_CU_dL = np.vstack([self.arr_CU_dL, np.full(shape=(2**self.N_train, ), fill_value=new_dL)])\n",
    "        self.arr_CU_is_enable = np.vstack([self.arr_CU_is_enable, np.full(shape=(2**self.N_train, ), fill_value=True)])\n",
    "        self.arr_CU_splits_count = np.vstack([self.arr_CU_splits_count, np.full(shape=(2**self.N_train, ), fill_value=self.arr_CU_splits_count[CU_start_points_index] + 1)])\n",
    "        self.arr_CU_is_final = np.vstack([self.arr_CU_is_final, np.full(shape=(2**self.N_train, ), fill_value=False)])\n",
    "        \n",
    "            \n",
    "\n",
    "    def fit(self, X: np.ndarray, y: np.ndarray) -> None:\n",
    "        \"\"\"编码单元分类器的估计器（estimator）\n",
    "\n",
    "        Args:\n",
    "            X (np.ndarray): 特征值\n",
    "            y (np.ndarray): 目标值\n",
    "\n",
    "        Raises:\n",
    "            ValueError: _description_\n",
    "        \"\"\" \n",
    "        # 如果特征值和目标值维度相等\n",
    "        if X.shape[0] != y.shape[0]:\n",
    "            raise ValueError(f'[CUC-ERROR] X.shape != y.shape: X.shape is {X.shape[0]}, y.shape is {y.shape[0]}')\n",
    "        \n",
    "        # 初始化 CUC 配置参数\n",
    "        self.N_train = X.shape[1]\n",
    "        self.X_train = np.array(X)\n",
    "        self.y_train = np.array(y)\n",
    "        self.df_train = pd.concat([pd.DataFrame(self.X_train), pd.Series((self.y_train), name='target')], axis=1)\n",
    "        \n",
    "        self.CU_min = X.min()\n",
    "        self.CU_max = X.max()\n",
    "                \n",
    "        # 初始化 CU 相关 ndarray\n",
    "        self.arr_CU_start_points = np.full(shape=(1, self.N_train), fill_value=self.CU_min)  # 将初始化中的 0.0 替换为编码单元的起始点\n",
    "        self.arr_CU_dL = np.array([self.CU_max - self.CU_min])\n",
    "        self.arr_CU_is_enable = np.array([True])\n",
    "        self.arr_CU_splits_count = np.array([0])\n",
    "        self.arr_CU_is_final = np.array([False])\n",
    "        self.arr_CU_force_infection = np.array([-1])\n",
    "        \n",
    "        current_index = 0\n",
    "        while (current_index < self.arr_CU_start_points.shape[0]):\n",
    "            # 如果当前 CU 已经废弃（disable），那么就没有再对他进行处理的意义了\n",
    "            \n",
    "            \n",
    "            type_split = self.is_CU_need_split(CU_start_points=self.arr_CU_start_points[current_index, :],\n",
    "                                               dL=self.arr_CU_dL[current_index])\n",
    "            if type_split is not True:\n",
    "                self.arr_CU_is_final[current_index] = True\n",
    "                \n",
    "                pass\n",
    "            current_index += 1\n",
    "            pass"
   ]
  },
  {
   "cell_type": "code",
   "execution_count": 227,
   "metadata": {},
   "outputs": [],
   "source": [
    "estimator = CodingUnitClassifier()\n",
    "estimator.fit(X=x_train, y=y_train)"
   ]
  },
  {
   "cell_type": "code",
   "execution_count": 321,
   "metadata": {},
   "outputs": [
    {
     "data": {
      "text/plain": [
       "numpy.ndarray"
      ]
     },
     "execution_count": 321,
     "metadata": {},
     "output_type": "execute_result"
    }
   ],
   "source": [
    "type(np.vstack([np.zeros((2, 5)), np.ones((3, 5))]))"
   ]
  },
  {
   "cell_type": "code",
   "execution_count": 323,
   "metadata": {},
   "outputs": [
    {
     "data": {
      "text/plain": [
       "array([3.33, 3.33])"
      ]
     },
     "execution_count": 323,
     "metadata": {},
     "output_type": "execute_result"
    }
   ],
   "source": [
    "np.full(shape=(2,), fill_value=3.33)"
   ]
  },
  {
   "cell_type": "code",
   "execution_count": 242,
   "metadata": {},
   "outputs": [
    {
     "data": {
      "text/plain": [
       "array(['blue', 'red'], dtype=object)"
      ]
     },
     "execution_count": 242,
     "metadata": {},
     "output_type": "execute_result"
    }
   ],
   "source": [
    "np.unique(estimator.y_train)"
   ]
  },
  {
   "cell_type": "code",
   "execution_count": 261,
   "metadata": {},
   "outputs": [
    {
     "name": "stderr",
     "output_type": "stream",
     "text": [
      "/var/folders/8w/gbcdx24135zfcng_1h_r02jw0000gn/T/ipykernel_68659/4224513197.py:1: FutureWarning: The default dtype for empty Series will be 'object' instead of 'float64' in a future version. Specify a dtype explicitly to silence this warning.\n",
      "  tt = pd.Series(index=np.unique(estimator.y_train)).fillna(value=0)\n"
     ]
    }
   ],
   "source": [
    "tt = pd.Series(index=np.unique(estimator.y_train)).fillna(value=0)\n",
    "tt['red'] += 1\n",
    "tt['blue'] += 3"
   ]
  },
  {
   "attachments": {},
   "cell_type": "markdown",
   "metadata": {},
   "source": [
    "绘制 CU"
   ]
  },
  {
   "cell_type": "code",
   "execution_count": 54,
   "metadata": {},
   "outputs": [
    {
     "data": {
      "image/png": "[encoded data removed]",
      "text/plain": [
       "<Figure size 360x360 with 1 Axes>"
      ]
     },
     "metadata": {
      "needs_background": "light"
     },
     "output_type": "display_data"
    }
   ],
   "source": [
    "# 第一为：CU起始点的x\n",
    "# 第二为：CU起始点的y\n",
    "# 第三为：CU 的边长\n",
    "data = np.array([\n",
    "    [0,   0,   2.5],\n",
    "    [2.5, 0,   2.5],\n",
    "    [0,   2.5, 2.5],\n",
    "    [2.5, 2.5, 2.5],\n",
    "    [0,   5,   5],\n",
    "    [5,   0,   5],\n",
    "    [5,   5,   5]])\n",
    "\n",
    "plt.figure(figsize=(5, 5))\n",
    "plt.scatter(data[:, 0], data[:, 1])\n",
    "# plt.show()\n",
    "\n",
    "num = 4\n",
    "\n",
    "# plt.figure()\n",
    "for i in data:\n",
    "    t_x_block = [i[0], i[0]+i[2], i[0]+i[2], i[0]]\n",
    "    t_y_block = [i[1], i[1],      i[1]+i[2], i[1]+i[2]]\n",
    "    plt.plot(t_x_block, t_y_block, c='black')\n",
    "    plt.fill(t_x_block, t_y_block, c='b', alpha=0.5)\n",
    "    plt.title(f'Splitting process in CUC\\n(splits count {num})')\n",
    "    plt.ylabel('y')\n",
    "    plt.xlabel('x')\n",
    "    plt.axis('equal')  # x、y 单位长度等长\n",
    "    \n",
    "plt.show()"
   ]
  },
  {
   "cell_type": "code",
   "execution_count": 314,
   "metadata": {},
   "outputs": [],
   "source": [
    "def generate_combinations(arr1, arr2):\n",
    "    # 获取数组长度\n",
    "    n = len(arr1)\n",
    "    # 生成包含所有可能性组合的列表\n",
    "    combinations = []\n",
    "    for i in range(2**n):\n",
    "        new_combination = []\n",
    "        for j in range(n):\n",
    "            if i & (1<<j):\n",
    "                new_combination.append(arr2[j])\n",
    "            else:\n",
    "                new_combination.append(arr1[j])\n",
    "        combinations.append(new_combination)\n",
    "    return combinations\n"
   ]
  },
  {
   "cell_type": "code",
   "execution_count": 315,
   "metadata": {},
   "outputs": [
    {
     "data": {
      "text/plain": [
       "[['0', '0'], ['1', '0'], ['0', '1'], ['1', '1']]"
      ]
     },
     "execution_count": 315,
     "metadata": {},
     "output_type": "execute_result"
    }
   ],
   "source": [
    "generate_combinations([\"0\", \"0\"], [\"1\", \"1\"])"
   ]
  },
  {
   "cell_type": "code",
   "execution_count": null,
   "metadata": {},
   "outputs": [],
   "source": [
    "# 1. 归一化\n",
    "\n",
    "# 2. 划分数据集\n",
    "\n",
    "# "
   ]
  },
  {
   "cell_type": "code",
   "execution_count": 25,
   "metadata": {},
   "outputs": [
    {
     "data": {
      "text/plain": [
       "array([0.03706571, 0.05368892, 0.01749104, ..., 0.00729749, 0.01039707,\n",
       "       0.00729749])"
      ]
     },
     "execution_count": 25,
     "metadata": {},
     "output_type": "execute_result"
    }
   ],
   "source": []
  },
  {
   "cell_type": "code",
   "execution_count": null,
   "metadata": {},
   "outputs": [],
   "source": []
  }
 ],
 "metadata": {
  "kernelspec": {
   "display_name": "tensorflow",
   "language": "python",
   "name": "python3"
  },
  "language_info": {
   "codemirror_mode": {
    "name": "ipython",
    "version": 3
   },
   "file_extension": ".py",
   "mimetype": "text/x-python",
   "name": "python",
   "nbconvert_exporter": "python",
   "pygments_lexer": "ipython3",
   "version": "3.9.12"
  },
  "orig_nbformat": 4
 },
 "nbformat": 4,
 "nbformat_minor": 2
}
