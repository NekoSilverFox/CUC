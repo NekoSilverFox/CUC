{
 "cells": [
  {
   "cell_type": "code",
   "execution_count": 452,
   "metadata": {},
   "outputs": [],
   "source": [
    "# %reset"
   ]
  },
  {
   "cell_type": "code",
   "execution_count": 453,
   "metadata": {},
   "outputs": [],
   "source": [
    "import numpy as np\n",
    "import pandas as pd\n",
    "from sklearn.utils import shuffle\n",
    "from matplotlib import pyplot as plt\n",
    "from sklearn.preprocessing import LabelEncoder\n",
    "from sklearn.preprocessing import StandardScaler\n",
    "from sklearn.preprocessing import MinMaxScaler\n",
    "from sklearn.model_selection import train_test_split\n"
   ]
  },
  {
   "cell_type": "code",
   "execution_count": 454,
   "metadata": {},
   "outputs": [
    {
     "data": {
      "image/png": "[encoded data removed]",
      "text/plain": [
       "<Figure size 500x500 with 1 Axes>"
      ]
     },
     "metadata": {
      "needs_background": "light"
     },
     "output_type": "display_data"
    }
   ],
   "source": [
    "# 获取数据集（具有正态分布的）\n",
    "x_1_1 = pd.Series(np.random.normal(loc=22, scale=4, size=50), name='x1')\n",
    "x_1_2 = pd.Series(np.random.normal(loc=24, scale=4, size=50), name='x2')\n",
    "y_1 = pd.Series(['blue'] * 50, name='target')\n",
    "\n",
    "x_2_1 = pd.Series(np.random.normal(loc=8, scale=3, size=50), name='x1')\n",
    "x_2_2 = pd.Series(np.random.normal(loc=12, scale=3, size=50), name='x2')\n",
    "y_2 = pd.Series(['red'] * 50, name='target')\n",
    "\n",
    "plt.figure(figsize=(5, 5), dpi=100)\n",
    "plt.scatter(x_1_1, x_1_2, c='blue')\n",
    "plt.scatter(x_2_1, x_2_2, c='red')\n",
    "plt.show()\n",
    "\n",
    "tmp_data_1 = pd.concat([x_1_1, x_1_2, y_1], axis=1)\n",
    "tmp_data_2 = pd.concat([x_2_1, x_2_2, y_2], axis=1)\n",
    "data = pd.concat([tmp_data_1, tmp_data_2], axis=0)\n",
    "data = shuffle(data).reset_index(drop=True)  # 打乱样本顺序\n",
    "\n",
    "# 划分数据集\n",
    "x_train, x_test, y_train, y_test = train_test_split(data.iloc[:, :-1], data.iloc[:, -1])\n",
    "\n",
    "# 归一化\n",
    "transfer = MinMaxScaler(feature_range=(0, 10))\n",
    "x_train = transfer.fit_transform(X=x_train)\n",
    "x_test = transfer.transform(X=x_test)\n"
   ]
  },
  {
   "attachments": {},
   "cell_type": "markdown",
   "metadata": {},
   "source": [
    "# CUC 的主类"
   ]
  },
  {
   "cell_type": "code",
   "execution_count": 455,
   "metadata": {},
   "outputs": [],
   "source": [
    "# ------*------ coding: utf-8 ------*------\n",
    "# @Time    : 2023/3/27 18:45\n",
    "# @Author  : 冰糖雪狸 (NekoSilverfox)\n",
    "# @Project : CUC\n",
    "# @File    : CodingUnitClassifier.py\n",
    "# @Software: PyCharm\n",
    "# @Github  ：https://github.com/NekoSilverFox\n",
    "# -----------------------------------------\n",
    "class CodingUnitClassifier(object):\n",
    "    \"\"\"编码单元分类器预估器（estimator）\"\"\"\n",
    "\n",
    "    def __init__(self, num_continuing_splits=0, threshold_value=1.0, is_draw_2D=False, **kw) -> None:\n",
    "        \"\"\"初始化\n",
    "\n",
    "        Args:\n",
    "            num_continuing_splits (int, optional): 细化分割次数. Defaults to 0.\n",
    "            threshold_value (int, optional): 临界值. Defaults to  1.0.\n",
    "            is_draw_2D (bool, optional): 当绘制 2D 数据集，是否绘制中途图像. Defaults to False.\n",
    "        \"\"\"\n",
    "        self.split_count = 0  # 分割次数计数器\n",
    "        self.is_draw_2D = is_draw_2D\n",
    "        self.num_continuing_splits = num_continuing_splits\n",
    "        self.threshold_value = threshold_value  # 临界值：当某个 CU 中某种粒子占比超过这个阈值，则暂停分割\n",
    "\n",
    "        self.transfer_LabelEncoder = None  # 目标值的转换器（转为数字）\n",
    "\n",
    "        self.N_train = None  # 训练集的维度\n",
    "        self.X_train = None  # 特征值（训练集）\n",
    "        self.y_train = None  # 目标值（训练集）\n",
    "        self.df_train = None  # 以 pandas.DataFream 形式的训练接数据（特征值和训练集是合并在一起的）。目标值的索引为 `target`，特征值的索引为 `x`，x 为从 0 开始的数字\n",
    "\n",
    "        self.CU_min = None  # 编码单元范围最小值\n",
    "        self.CU_max = None  # 编码单元范围最小值\n",
    "\n",
    "        self.arr_CU_start_points = None  # 编码单元起始点列表\n",
    "        self.arr_CU_dL = None  # arr_CU_start_points 对应位置的编码单元的边长 `dL`\n",
    "        self.arr_CU_is_enable = None  # arr_CU_start_points 对应位置的编码单元是否启用，True 代表启用，False 代表不启用\n",
    "        self.arr_CU_splits_count = None  # arr_CU_start_points 对应位置的编码单元是通过几次分割所得到的\n",
    "        self.arr_CU_final_target = None  # arr_CU_start_points 对应位置的编码单元的最终预测类别（-1 代表无类别）\n",
    "        self.arr_CU_force_infection = None  # arr_CU_start_points 对应位置的编码单元的感染力度 (force of infection)\n",
    "\n",
    "    def is_CU_need_split(self, arr1d_start_points: np.ndarray, dL: np.float) -> np.int:\n",
    "        \"\"\"判断当前 CU 是否需要继续预分割（如果需要返回 -1，如果不需要返回当前 CU 所属的目标值，并且 -2 代表为空白 CU）\n",
    "\n",
    "        Args:\n",
    "            arr1d_start_points (np.ndarray): 当前 CU 的起始点\n",
    "            dL (np.float): 当前 CU 的边长\n",
    "\n",
    "        Raises:\n",
    "            ValueError: _description_\n",
    "            ValueError: _description_\n",
    "\n",
    "        Returns:\n",
    "            _type_: True为需要进一步分割，如果不需要返回当前 CU 所属的目标值\n",
    "        \"\"\"\n",
    "        if dL <= 0:\n",
    "            raise ValueError(f'[CUC-ERROR] dl can not <= 0, your dL is {dL}')\n",
    "        if arr1d_start_points.shape[0] != self.N_train:\n",
    "            raise ValueError(\n",
    "                f'[CUC-ERROR] arr1d_start_points.shape not correct: arr1d_start_points.shape is {arr1d_start_points.shape}, '\n",
    "                f'should be ({self.N_train}, )')\n",
    "\n",
    "        CU_end_points = np.array(arr1d_start_points + dL)  # 结束点\n",
    "        s_type_count = pd.Series(index=np.unique(self.y_train)).fillna(value=0)  # 计数器，列索引为类别，对应位置数据为该 CU 中此种类粒子数量\n",
    "\n",
    "        # 遍历判断点是否在这个 CU  中\n",
    "        for col, col_target in zip(self.X_train, self.y_train):  # col_target 为当前行的目标值\n",
    "            # 判断粒子在此维度上是否介于 CU 的起始点和结束点\n",
    "            if (col > arr1d_start_points).all() & (col < CU_end_points).all():\n",
    "                s_type_count[col_target] += 1\n",
    "\n",
    "        # -1 代表这个编码单元里没有任何粒子，为空白编码单元\n",
    "        if -2 == s_type_count.sum():\n",
    "            return -2\n",
    "\n",
    "        s_type_count = s_type_count / s_type_count.sum()  # 转换为概率\n",
    "        if (s_type_count.max() >= self.threshold_value) & (\n",
    "                1 == s_type_count[s_type_count.values == s_type_count.max()].shape[0]):  # 不允许出现两种相同概率\n",
    "            return s_type_count[s_type_count.values == s_type_count.max()].index[0]\n",
    "        else:\n",
    "            return -1\n",
    "\n",
    "    def split_CU_and_update2arrCU(self, index_start_points: int) -> None:\n",
    "        \"\"\"分割当前 CU，并将分割的结果更新到方法内部成员\n",
    "\n",
    "        Args:\n",
    "            index_start_points (int): 需要分割 CU 的索引\n",
    "        \"\"\"\n",
    "        if self.arr_CU_is_enable[index_start_points] is False:\n",
    "            raise ValueError(f'[CUC-ERROR] CU on index {index_start_points} already disable, can not continue split')\n",
    "\n",
    "        self.arr_CU_is_enable[index_start_points] = False  # 既然对这个单元分割就说明这个单元不再使用了，因为它被差分成了许多新的小单元\n",
    "\n",
    "        start_points = self.arr_CU_start_points[index_start_points, :]\n",
    "        new_dL = self.arr_CU_dL[index_start_points] / 2\n",
    "        end_points = np.array(start_points + new_dL)\n",
    "\n",
    "        # 生成包含所有可能性组合的列表\n",
    "        combinations = []\n",
    "        for i in range(2 ** self.N_train):\n",
    "            new_combination = []\n",
    "            for j in range(self.N_train):\n",
    "                if i & (1 << j):\n",
    "                    new_combination.append(end_points[j])\n",
    "                else:\n",
    "                    new_combination.append(start_points[j])\n",
    "            combinations.append(new_combination)\n",
    "\n",
    "        print(f'[INFO] -------------split-------------\\n'\n",
    "              f'new_dL: {new_dL}\\n'\n",
    "              f'new_combination:\\n{combinations}')\n",
    "\n",
    "        # 分割后的 CU 添加至缓冲区\n",
    "        self.arr_CU_start_points = np.vstack([self.arr_CU_start_points, np.array(combinations)])\n",
    "        self.arr_CU_dL = np.hstack([self.arr_CU_dL, np.full(shape=(2 ** self.N_train,), fill_value=new_dL)])\n",
    "        self.arr_CU_is_enable = np.hstack([self.arr_CU_is_enable, np.full(shape=(2 ** self.N_train,), fill_value=True)])\n",
    "        self.arr_CU_splits_count = np.hstack([self.arr_CU_splits_count, np.full(shape=(2 ** self.N_train,),\n",
    "                                                                                fill_value=self.arr_CU_splits_count[index_start_points] + 1)])\n",
    "        self.arr_CU_final_target = np.hstack(\n",
    "            [self.arr_CU_final_target, np.full(shape=(2 ** self.N_train,), fill_value=-1, dtype=np.int)])\n",
    "\n",
    "        self.split_count += 1\n",
    "\n",
    "    def fit(self, X: np.ndarray, y: np.ndarray) -> None:\n",
    "        \"\"\"编码单元分类器的估计器（estimator）\n",
    "\n",
    "        Args:\n",
    "            X (np.ndarray): 特征值\n",
    "            y (np.ndarray): 目标值\n",
    "\n",
    "        Raises:\n",
    "            ValueError: _description_\n",
    "        \"\"\"\n",
    "        # 如果特征值和目标值维度相等\n",
    "        if X.shape[0] != y.shape[0]:\n",
    "            raise ValueError(f'[CUC-ERROR] X.shape != y.shape: X.shape is {X.shape[0]}, y.shape is {y.shape[0]}')\n",
    "\n",
    "        # 初始化 CUC 配置参数\n",
    "        self.N_train = X.shape[1]\n",
    "        self.X_train = np.array(X)\n",
    "        self.y_train = np.array(y)\n",
    "        self.df_train = pd.concat([pd.DataFrame(self.X_train), pd.Series((self.y_train), name='target')], axis=1)\n",
    "\n",
    "        self.CU_min = X.min()\n",
    "        self.CU_max = X.max()\n",
    "\n",
    "        # 目标值转为数值类型\n",
    "        self.transfer_LabelEncoder = LabelEncoder()\n",
    "        self.y_train = np.array(self.transfer_LabelEncoder.fit_transform(y=y), dtype=np.int)\n",
    "\n",
    "        # 初始化 CU 相关 ndarray\n",
    "        self.arr_CU_start_points = np.full(shape=(1, self.N_train), fill_value=self.CU_min)  # 将初始化中的 0.0 替换为编码单元的起始点\n",
    "        self.arr_CU_dL = np.array([self.CU_max - self.CU_min])\n",
    "        self.arr_CU_is_enable = np.array([True])\n",
    "        self.arr_CU_splits_count = np.array([0])\n",
    "        self.arr_CU_final_target = np.array([-1], dtype=np.int)\n",
    "        self.arr_CU_force_infection = np.array([np.nan])\n",
    "\n",
    "        # 预分割阶段\n",
    "        current_index = 0\n",
    "        while current_index < self.arr_CU_start_points.shape[0]:\n",
    "            # 如果当前 CU 已经废弃（disable），那么就没有再对他进行处理的意义了\n",
    "            if self.arr_CU_is_enable[current_index] is False:\n",
    "                current_index += 1\n",
    "                continue\n",
    "\n",
    "            # 如果当前 CU 启用，但是已经有了最终类别\n",
    "            if self.arr_CU_is_enable[current_index] is True and self.arr_CU_final_target[current_index] != -1:\n",
    "                current_index += 1\n",
    "                continue\n",
    "\n",
    "            type_split = self.is_CU_need_split(arr1d_start_points=self.arr_CU_start_points[current_index, :],\n",
    "                                               dL=self.arr_CU_dL[current_index])\n",
    "            print(f'[INFO] CUC.fit(): current_index: {current_index} \\t type_split: {type_split}')\n",
    "\n",
    "            if type_split == -1:\n",
    "                self.split_CU_and_update2arrCU(index_start_points=current_index)\n",
    "            else:\n",
    "                self.arr_CU_final_target[current_index] = type_split\n",
    "\n",
    "            current_index += 1\n"
   ]
  },
  {
   "cell_type": "code",
   "execution_count": 487,
   "metadata": {},
   "outputs": [],
   "source": [
    "estimator = CodingUnitClassifier()\n",
    "# estimator.fit(X=x_train, y=y_train)"
   ]
  },
  {
   "cell_type": "code",
   "execution_count": 457,
   "metadata": {},
   "outputs": [
    {
     "data": {
      "text/plain": [
       "array([[0., 0.],\n",
       "       [0., 0.],\n",
       "       [5., 0.],\n",
       "       [0., 5.],\n",
       "       [5., 5.]])"
      ]
     },
     "execution_count": 457,
     "metadata": {},
     "output_type": "execute_result"
    }
   ],
   "source": [
    "estimator.arr_CU_start_points"
   ]
  },
  {
   "attachments": {},
   "cell_type": "markdown",
   "metadata": {},
   "source": [
    "绘制 CU"
   ]
  },
  {
   "cell_type": "code",
   "execution_count": 485,
   "metadata": {},
   "outputs": [
    {
     "data": {
      "image/png": "[encoded data removed]",
      "text/plain": [
       "<Figure size 360x360 with 1 Axes>"
      ]
     },
     "metadata": {
      "needs_background": "light"
     },
     "output_type": "display_data"
    }
   ],
   "source": [
    "# 第一为：CU起始点的x\n",
    "# 第二为：CU起始点的y\n",
    "# 第三为：CU 的边长\n",
    "data = np.array([\n",
    "    [0,   0,   2.5],\n",
    "    [2.5, 0,   2.5],\n",
    "    [0,   2.5, 2.5],\n",
    "    [2.5, 2.5, 2.5],\n",
    "    [0,   5,   5],\n",
    "    [5,   0,   5],\n",
    "    [5,   5,   5]])\n",
    "\n",
    "plt.figure(figsize=(5, 5))\n",
    "plt.scatter(data[:, 0], data[:, 1])\n",
    "# plt.show()\n",
    "\n",
    "num = 4\n",
    "\n",
    "# plt.figure()\n",
    "for i in data:\n",
    "    t_x_block = [i[0], i[0]+i[2], i[0]+i[2], i[0]]\n",
    "    t_y_block = [i[1], i[1],      i[1]+i[2], i[1]+i[2]]\n",
    "    plt.plot(t_x_block, t_y_block, c='black')\n",
    "    plt.fill(t_x_block, t_y_block, c='b', alpha=0.2)\n",
    "    plt.title(f'Splitting process in CUC\\n(splits count {num})')\n",
    "    plt.ylabel('y')\n",
    "    plt.xlabel('x')\n",
    "    plt.axis('equal')  # x、y 单位长度等长\n",
    "    \n",
    "plt.show()"
   ]
  },
  {
   "cell_type": "code",
   "execution_count": 459,
   "metadata": {},
   "outputs": [],
   "source": [
    "def generate_combinations(arr1, arr2):\n",
    "    # 获取数组长度\n",
    "    n = len(arr1)\n",
    "    # 生成包含所有可能性组合的列表\n",
    "    combinations = []\n",
    "    for i in range(2**n):\n",
    "        new_combination = []\n",
    "        for j in range(n):\n",
    "            if i & (1<<j):\n",
    "                new_combination.append(arr2[j])\n",
    "            else:\n",
    "                new_combination.append(arr1[j])\n",
    "        combinations.append(new_combination)\n",
    "    return combinations\n"
   ]
  },
  {
   "cell_type": "code",
   "execution_count": 460,
   "metadata": {},
   "outputs": [
    {
     "data": {
      "text/plain": [
       "[['0', '0'], ['1', '0'], ['0', '1'], ['1', '1']]"
      ]
     },
     "execution_count": 460,
     "metadata": {},
     "output_type": "execute_result"
    }
   ],
   "source": [
    "generate_combinations([\"0\", \"0\"], [\"1\", \"1\"])"
   ]
  },
  {
   "cell_type": "code",
   "execution_count": 467,
   "metadata": {},
   "outputs": [
    {
     "data": {
      "text/plain": [
       "array([[ 5.97069254,  2.77846819],\n",
       "       [ 9.85924584,  7.14188368],\n",
       "       [ 1.69133016,  2.49185283],\n",
       "       [ 8.4403485 ,  5.89807742],\n",
       "       [ 5.75695313,  4.02317876],\n",
       "       [ 1.84049522,  0.79705646],\n",
       "       [ 1.16425176,  0.27215699],\n",
       "       [ 7.58243628,  7.52683851],\n",
       "       [10.        ,  6.71917655],\n",
       "       [ 0.56340964,  3.07673466],\n",
       "       [ 7.69567883,  8.950001  ],\n",
       "       [ 6.84730783,  6.84690366],\n",
       "       [ 4.49841823,  6.06206039],\n",
       "       [ 6.21790165,  4.39085998],\n",
       "       [ 8.03034547, 10.        ],\n",
       "       [ 1.36012815,  1.56643005],\n",
       "       [ 6.93558733,  4.88715789],\n",
       "       [ 4.5361889 ,  5.80441572],\n",
       "       [ 7.65492373,  4.84491679],\n",
       "       [ 1.16699015,  1.16674304],\n",
       "       [ 6.62623876,  9.00792972],\n",
       "       [ 2.5065654 ,  1.95110604],\n",
       "       [ 1.65018362,  2.61844238],\n",
       "       [ 6.44552358,  7.79733703],\n",
       "       [ 5.72358414,  8.37844743],\n",
       "       [ 2.68446827,  1.04906083],\n",
       "       [ 1.56648799,  1.62529889],\n",
       "       [ 8.36205256,  7.22701919],\n",
       "       [ 7.49524583,  8.52037372],\n",
       "       [ 0.98911748,  1.92266115],\n",
       "       [ 5.17212891,  7.96660177],\n",
       "       [ 2.37922369,  1.5996188 ],\n",
       "       [ 7.50096583,  6.47967837],\n",
       "       [ 2.13778027,  2.58166113],\n",
       "       [ 2.8770951 ,  0.32243616],\n",
       "       [ 1.30287843,  0.20714388],\n",
       "       [ 9.94346097,  7.49351938],\n",
       "       [ 1.8925233 ,  1.135607  ],\n",
       "       [ 1.26011089,  2.70235581],\n",
       "       [ 1.24513416,  1.17999562],\n",
       "       [ 0.98754311,  3.35031802],\n",
       "       [ 0.29884189,  1.98639679],\n",
       "       [ 1.33096971,  2.52101644],\n",
       "       [ 0.11194744,  3.03950208],\n",
       "       [ 3.49305159,  1.01353489],\n",
       "       [ 0.76153934,  3.2967018 ],\n",
       "       [ 2.1967126 ,  3.58006328],\n",
       "       [ 8.17613947,  4.17516679],\n",
       "       [ 6.95218527,  5.75756606],\n",
       "       [ 4.69257182,  5.95608207],\n",
       "       [ 1.08305194,  3.0986973 ],\n",
       "       [ 0.        ,  0.60198711],\n",
       "       [ 1.0539706 ,  0.68721337],\n",
       "       [ 0.94750988,  1.05764604],\n",
       "       [ 9.21799374,  7.23614556],\n",
       "       [ 8.39617834,  5.94150459],\n",
       "       [ 2.13024435,  2.75100923],\n",
       "       [ 3.36656373,  1.03485988],\n",
       "       [ 5.7451061 ,  4.6356066 ],\n",
       "       [ 0.4474985 ,  2.99073836],\n",
       "       [ 1.54161373,  1.0242807 ],\n",
       "       [ 1.04792794,  0.        ],\n",
       "       [ 7.92358922,  4.50582762],\n",
       "       [ 2.01155832,  3.74652176],\n",
       "       [ 8.97692946,  5.55245733],\n",
       "       [ 4.78542219,  7.14627964],\n",
       "       [ 0.1321672 ,  1.06774312],\n",
       "       [ 6.0483107 ,  3.86833201],\n",
       "       [ 6.83507483,  5.24128432],\n",
       "       [ 8.03351631,  7.79790959],\n",
       "       [ 9.20197809,  6.53381704],\n",
       "       [ 6.92598223,  6.25187121],\n",
       "       [ 0.18437848,  1.61084322],\n",
       "       [ 6.5723808 ,  6.21998504],\n",
       "       [ 7.81879602,  4.11103678]])"
      ]
     },
     "execution_count": 467,
     "metadata": {},
     "output_type": "execute_result"
    }
   ],
   "source": [
    "estimator.X_train"
   ]
  },
  {
   "cell_type": "code",
   "execution_count": 462,
   "metadata": {},
   "outputs": [
    {
     "data": {
      "text/plain": [
       "(75,)"
      ]
     },
     "execution_count": 462,
     "metadata": {},
     "output_type": "execute_result"
    }
   ],
   "source": [
    "estimator.y_train.T.shape"
   ]
  },
  {
   "cell_type": "code",
   "execution_count": 472,
   "metadata": {},
   "outputs": [
    {
     "data": {
      "text/plain": [
       "0     0\n",
       "1     0\n",
       "2     1\n",
       "3     0\n",
       "4     0\n",
       "     ..\n",
       "70    0\n",
       "71    0\n",
       "72    1\n",
       "73    0\n",
       "74    0\n",
       "Length: 75, dtype: int64"
      ]
     },
     "execution_count": 472,
     "metadata": {},
     "output_type": "execute_result"
    }
   ],
   "source": [
    "pd.Series(estimator.y_train)"
   ]
  },
  {
   "cell_type": "code",
   "execution_count": 481,
   "metadata": {},
   "outputs": [
    {
     "data": {
      "text/plain": [
       "array([[ 5.97069254,  2.77846819],\n",
       "       [ 9.85924584,  7.14188368],\n",
       "       [ 8.4403485 ,  5.89807742],\n",
       "       [ 5.75695313,  4.02317876],\n",
       "       [ 7.58243628,  7.52683851],\n",
       "       [10.        ,  6.71917655],\n",
       "       [ 7.69567883,  8.950001  ],\n",
       "       [ 6.84730783,  6.84690366],\n",
       "       [ 4.49841823,  6.06206039],\n",
       "       [ 6.21790165,  4.39085998],\n",
       "       [ 8.03034547, 10.        ],\n",
       "       [ 6.93558733,  4.88715789],\n",
       "       [ 4.5361889 ,  5.80441572],\n",
       "       [ 7.65492373,  4.84491679],\n",
       "       [ 6.62623876,  9.00792972],\n",
       "       [ 6.44552358,  7.79733703],\n",
       "       [ 5.72358414,  8.37844743],\n",
       "       [ 8.36205256,  7.22701919],\n",
       "       [ 7.49524583,  8.52037372],\n",
       "       [ 5.17212891,  7.96660177],\n",
       "       [ 7.50096583,  6.47967837],\n",
       "       [ 9.94346097,  7.49351938],\n",
       "       [ 8.17613947,  4.17516679],\n",
       "       [ 6.95218527,  5.75756606],\n",
       "       [ 4.69257182,  5.95608207],\n",
       "       [ 9.21799374,  7.23614556],\n",
       "       [ 8.39617834,  5.94150459],\n",
       "       [ 5.7451061 ,  4.6356066 ],\n",
       "       [ 7.92358922,  4.50582762],\n",
       "       [ 8.97692946,  5.55245733],\n",
       "       [ 4.78542219,  7.14627964],\n",
       "       [ 6.0483107 ,  3.86833201],\n",
       "       [ 6.83507483,  5.24128432],\n",
       "       [ 8.03351631,  7.79790959],\n",
       "       [ 9.20197809,  6.53381704],\n",
       "       [ 6.92598223,  6.25187121],\n",
       "       [ 6.5723808 ,  6.21998504],\n",
       "       [ 7.81879602,  4.11103678]])"
      ]
     },
     "execution_count": 481,
     "metadata": {},
     "output_type": "execute_result"
    }
   ],
   "source": [
    "tmp_data = pd.concat([pd.DataFrame(estimator.X_train), pd.Series(estimator.y_train)], axis=1)\n",
    "tmp_data.columns=('x', 'y', 'target')\n",
    "tmp_data[tmp_data['target'] == 0].values[:, :-1]"
   ]
  },
  {
   "cell_type": "code",
   "execution_count": 486,
   "metadata": {},
   "outputs": [
    {
     "data": {
      "text/plain": [
       "2"
      ]
     },
     "execution_count": 486,
     "metadata": {},
     "output_type": "execute_result"
    }
   ],
   "source": [
    "estimator.N_train"
   ]
  }
 ],
 "metadata": {
  "kernelspec": {
   "display_name": "tensorflow",
   "language": "python",
   "name": "python3"
  },
  "language_info": {
   "codemirror_mode": {
    "name": "ipython",
    "version": 3
   },
   "file_extension": ".py",
   "mimetype": "text/x-python",
   "name": "python",
   "nbconvert_exporter": "python",
   "pygments_lexer": "ipython3",
   "version": "3.9.12"
  },
  "orig_nbformat": 4
 },
 "nbformat": 4,
 "nbformat_minor": 2
}
